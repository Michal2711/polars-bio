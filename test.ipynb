{
 "cells": [
  {
   "cell_type": "code",
   "execution_count": 1,
   "id": "0d594985",
   "metadata": {},
   "outputs": [
    {
     "name": "stderr",
     "output_type": "stream",
     "text": [
      "INFO:polars_bio:Creating BioSessionContext\n",
      "/home/michal/Desktop/TBD/polars-bio/polars_bio/__init__.py:55: UserWarning: polars_bio: nie udało się zarejestrować QC-UDF – cannot import name '_rust' from partially initialized module 'polars_bio' (most likely due to a circular import) (/home/michal/Desktop/TBD/polars-bio/polars_bio/__init__.py)\n",
      "  warnings.warn(\n"
     ]
    }
   ],
   "source": [
    "import polars_bio as pb"
   ]
  },
  {
   "cell_type": "code",
   "execution_count": 2,
   "id": "b22a6943",
   "metadata": {},
   "outputs": [
    {
     "name": "stderr",
     "output_type": "stream",
     "text": [
      "INFO:polars_bio:Table: example registered for path: example.fastq\n"
     ]
    },
    {
     "data": {
      "application/vnd.jupyter.widget-view+json": {
       "model_id": "492a9549204440bb92b4149f7f6cb913",
       "version_major": 2,
       "version_minor": 0
      },
      "text/plain": [
       "0rows [00:00, ?rows/s]"
      ]
     },
     "metadata": {},
     "output_type": "display_data"
    },
    {
     "data": {
      "text/html": [
       "<div><style>\n",
       ".dataframe > thead > tr,\n",
       ".dataframe > tbody > tr {\n",
       "  text-align: right;\n",
       "  white-space: pre-wrap;\n",
       "}\n",
       "</style>\n",
       "<small>shape: (200, 4)</small><table border=\"1\" class=\"dataframe\"><thead><tr><th>name</th><th>description</th><th>sequence</th><th>quality_scores</th></tr><tr><td>str</td><td>str</td><td>str</td><td>str</td></tr></thead><tbody><tr><td>&quot;SRR9130495.1&quot;</td><td>&quot;D00236:723:HG32CBCX2:1:1108:13…</td><td>&quot;NCAATACAAAAGCAATATGGGAGAAGCTAC…</td><td>&quot;#4BDFDFFHGHGGJJJHIIIIGGIIJGJJG…</td></tr><tr><td>&quot;SRR9130495.2&quot;</td><td>&quot;D00236:723:HG32CBCX2:1:1108:14…</td><td>&quot;NGTCAAAGATAAGATCAAAAGGCACTGGCT…</td><td>&quot;#1=DDDDD&gt;DHFH@EFHHGHGGFGIIIGIG…</td></tr><tr><td>&quot;SRR9130495.3&quot;</td><td>&quot;D00236:723:HG32CBCX2:1:1108:17…</td><td>&quot;GTTTTCCTCTGGTTATTTCTAGGTACACTG…</td><td>&quot;@@@DDDFFHHHFHBHIIGJIJIIJIIIEHG…</td></tr><tr><td>&quot;SRR9130495.4&quot;</td><td>&quot;D00236:723:HG32CBCX2:1:1108:16…</td><td>&quot;GGGAGGCGCCCCGACCGGCCAGGGCGTGAG…</td><td>&quot;CCCFFFFFHHHHGHIIIGIIJIIIJJGHFF…</td></tr><tr><td>&quot;SRR9130495.5&quot;</td><td>&quot;D00236:723:HG32CBCX2:1:1108:16…</td><td>&quot;CACTCCGCCACTACAGCAGTCCCCCAGTGT…</td><td>&quot;++=A1A:1ADA&lt;;FFDC?;CG&lt;F;::1CFI…</td></tr><tr><td>&hellip;</td><td>&hellip;</td><td>&hellip;</td><td>&hellip;</td></tr><tr><td>&quot;SRR9130495.196&quot;</td><td>&quot;D00236:723:HG32CBCX2:1:1108:99…</td><td>&quot;TCTTGTGAAGAAGATGCTGTTGGAAGCCTC…</td><td>&quot;CCCFFFFFHGDFGIIJJIJJIGGJJIIJJI…</td></tr><tr><td>&quot;SRR9130495.197&quot;</td><td>&quot;D00236:723:HG32CBCX2:1:1108:99…</td><td>&quot;TGGGGCTGTGAACCGAAGTCTGCTCCTTTG…</td><td>&quot;@BCFFDAFHHHHHIIIIHIIJIIJIIJJJI…</td></tr><tr><td>&quot;SRR9130495.198&quot;</td><td>&quot;D00236:723:HG32CBCX2:1:1108:10…</td><td>&quot;ATGTGCTCAAAGGCTGGGTGGACCTTACCT…</td><td>&quot;@CCFFFDDFFBHDHIIIBFEGFGHGHGDFH…</td></tr><tr><td>&quot;SRR9130495.199&quot;</td><td>&quot;D00236:723:HG32CBCX2:1:1108:10…</td><td>&quot;GCCCTGGGATTGTCCCTCTGGGCACAGGGA…</td><td>&quot;CCCFFBDDHHHFHJIIIJJJJIIIIIFIIE…</td></tr><tr><td>&quot;SRR9130495.200&quot;</td><td>&quot;D00236:723:HG32CBCX2:1:1108:10…</td><td>&quot;ATGGAGGATGGCACCCTGCAGGCTGGCCCA…</td><td>&quot;@@CDFFDFGFHFFIJGGII&lt;GIJGIJDIIJ…</td></tr></tbody></table></div>"
      ],
      "text/plain": [
       "shape: (200, 4)\n",
       "┌────────────────┬───────────────────────────┬──────────────────────────┬──────────────────────────┐\n",
       "│ name           ┆ description               ┆ sequence                 ┆ quality_scores           │\n",
       "│ ---            ┆ ---                       ┆ ---                      ┆ ---                      │\n",
       "│ str            ┆ str                       ┆ str                      ┆ str                      │\n",
       "╞════════════════╪═══════════════════════════╪══════════════════════════╪══════════════════════════╡\n",
       "│ SRR9130495.1   ┆ D00236:723:HG32CBCX2:1:11 ┆ NCAATACAAAAGCAATATGGGAGA ┆ #4BDFDFFHGHGGJJJHIIIIGGI │\n",
       "│                ┆ 08:13…                    ┆ AGCTAC…                  ┆ IJGJJG…                  │\n",
       "│ SRR9130495.2   ┆ D00236:723:HG32CBCX2:1:11 ┆ NGTCAAAGATAAGATCAAAAGGCA ┆ #1=DDDDD>DHFH@EFHHGHGGFG │\n",
       "│                ┆ 08:14…                    ┆ CTGGCT…                  ┆ IIIGIG…                  │\n",
       "│ SRR9130495.3   ┆ D00236:723:HG32CBCX2:1:11 ┆ GTTTTCCTCTGGTTATTTCTAGGT ┆ @@@DDDFFHHHFHBHIIGJIJIIJ │\n",
       "│                ┆ 08:17…                    ┆ ACACTG…                  ┆ IIIEHG…                  │\n",
       "│ SRR9130495.4   ┆ D00236:723:HG32CBCX2:1:11 ┆ GGGAGGCGCCCCGACCGGCCAGGG ┆ CCCFFFFFHHHHGHIIIGIIJIII │\n",
       "│                ┆ 08:16…                    ┆ CGTGAG…                  ┆ JJGHFF…                  │\n",
       "│ SRR9130495.5   ┆ D00236:723:HG32CBCX2:1:11 ┆ CACTCCGCCACTACAGCAGTCCCC ┆ ++=A1A:1ADA<;FFDC?;CG<F; │\n",
       "│                ┆ 08:16…                    ┆ CAGTGT…                  ┆ ::1CFI…                  │\n",
       "│ …              ┆ …                         ┆ …                        ┆ …                        │\n",
       "│ SRR9130495.196 ┆ D00236:723:HG32CBCX2:1:11 ┆ TCTTGTGAAGAAGATGCTGTTGGA ┆ CCCFFFFFHGDFGIIJJIJJIGGJ │\n",
       "│                ┆ 08:99…                    ┆ AGCCTC…                  ┆ JIIJJI…                  │\n",
       "│ SRR9130495.197 ┆ D00236:723:HG32CBCX2:1:11 ┆ TGGGGCTGTGAACCGAAGTCTGCT ┆ @BCFFDAFHHHHHIIIIHIIJIIJ │\n",
       "│                ┆ 08:99…                    ┆ CCTTTG…                  ┆ IIJJJI…                  │\n",
       "│ SRR9130495.198 ┆ D00236:723:HG32CBCX2:1:11 ┆ ATGTGCTCAAAGGCTGGGTGGACC ┆ @CCFFFDDFFBHDHIIIBFEGFGH │\n",
       "│                ┆ 08:10…                    ┆ TTACCT…                  ┆ GHGDFH…                  │\n",
       "│ SRR9130495.199 ┆ D00236:723:HG32CBCX2:1:11 ┆ GCCCTGGGATTGTCCCTCTGGGCA ┆ CCCFFBDDHHHFHJIIIJJJJIII │\n",
       "│                ┆ 08:10…                    ┆ CAGGGA…                  ┆ IIFIIE…                  │\n",
       "│ SRR9130495.200 ┆ D00236:723:HG32CBCX2:1:11 ┆ ATGGAGGATGGCACCCTGCAGGCT ┆ @@CDFFDFGFHFFIJGGII<GIJG │\n",
       "│                ┆ 08:10…                    ┆ GGCCCA…                  ┆ IJDIIJ…                  │\n",
       "└────────────────┴───────────────────────────┴──────────────────────────┴──────────────────────────┘"
      ]
     },
     "execution_count": 2,
     "metadata": {},
     "output_type": "execute_result"
    }
   ],
   "source": [
    "pb.read_fastq(\"example.fastq\").collect()"
   ]
  },
  {
   "cell_type": "code",
   "execution_count": 4,
   "id": "cc7b82ca",
   "metadata": {},
   "outputs": [
    {
     "data": {
      "application/vnd.jupyter.widget-view+json": {
       "model_id": "a7b69319e4b24d268972d958fee888df",
       "version_major": 2,
       "version_minor": 0
      },
      "text/plain": [
       "0rows [00:00, ?rows/s]"
      ]
     },
     "metadata": {},
     "output_type": "display_data"
    }
   ],
   "source": [
    "df = pb.sql(\"SELECT sequence_quality_score(quality_scores) AS global_hist FROM example\").collect().to_pandas()"
   ]
  },
  {
   "cell_type": "code",
   "execution_count": 6,
   "id": "1ffd2744",
   "metadata": {},
   "outputs": [
    {
     "name": "stdout",
     "output_type": "stream",
     "text": [
      "{\"36\":33,\"20\":1,\"38\":41,\"30\":6,\"24\":1,\"28\":1,\"27\":5,\"29\":3,\"35\":16,\"34\":9,\"39\":6,\"31\":5,\"32\":5,\"26\":7,\"37\":49,\"33\":10,\"25\":1,\"23\":1}\n",
      "\n"
     ]
    }
   ],
   "source": [
    "global_hist = df['global_hist']\n",
    "for a in global_hist:\n",
    "    print(f'{a}\\n')"
   ]
  }
 ],
 "metadata": {
  "kernelspec": {
   "display_name": ".venv",
   "language": "python",
   "name": "python3"
  },
  "language_info": {
   "codemirror_mode": {
    "name": "ipython",
    "version": 3
   },
   "file_extension": ".py",
   "mimetype": "text/x-python",
   "name": "python",
   "nbconvert_exporter": "python",
   "pygments_lexer": "ipython3",
   "version": "3.12.3"
  }
 },
 "nbformat": 4,
 "nbformat_minor": 5
}
